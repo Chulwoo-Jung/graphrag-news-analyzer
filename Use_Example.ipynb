{
 "cells": [
  {
   "cell_type": "code",
   "execution_count": null,
   "id": "bd9e6254",
   "metadata": {},
   "outputs": [
    {
     "name": "stdout",
     "output_type": "stream",
     "text": [
      "Number of articles: 38\n",
      "Number of graph documents: 38\n",
      "----------------------------------------------------------------------------------------------------\n",
      "Extracted nodes: [Node(id='No Man’S Sky', type='Product', properties={'category': 'space exploration sim'}), Node(id='Voyagers Update', type='Product', properties={})]\n",
      "Extracted relationships: []\n",
      "----------------------------------------------------------------------------------------------------\n",
      "Extracted nodes: [Node(id='Microsoft', type='Company', properties={'industry': 'technology'}), Node(id='Xbox Game Pass September 2025 Wave 1', type='Product', properties={'name': 'Xbox Game Pass September 2025 Wave 1'}), Node(id='Hollow Knight: Silksong', type='Product', properties={'name': 'Hollow Knight: Silksong'}), Node(id='Team Cherry', type='Company', properties={'name': 'Team Cherry'})]\n",
      "Extracted relationships: [Relationship(source=Node(id='Microsoft', type='Company', properties={}), target=Node(id='Xbox Game Pass September 2025 Wave 1', type='Product', properties={}), type='RELEASED', properties={})]\n",
      "----------------------------------------------------------------------------------------------------\n",
      "Extracted nodes: [Node(id='Apple', type='Company', properties={}), Node(id='Airpods Pro 3', type='Product', properties={}), Node(id='Airpods Pro 2', type='Product', properties={})]\n",
      "Extracted relationships: [Relationship(source=Node(id='Apple', type='Company', properties={}), target=Node(id='Airpods Pro 3', type='Product', properties={}), type='RELEASED', properties={})]\n",
      "----------------------------------------------------------------------------------------------------\n",
      "Extracted nodes: [Node(id='Pioneer Laseractive', type='Product', properties={'name': 'Pioneer LaserActive'})]\n",
      "Extracted relationships: []\n",
      "----------------------------------------------------------------------------------------------------\n",
      "Extracted nodes: []\n",
      "Extracted relationships: []\n",
      "----------------------------------------------------------------------------------------------------\n",
      "Extracted nodes: [Node(id='Google', type='Company', properties={'name': 'Google'}), Node(id='Gmail', type='Product', properties={'name': 'Gmail'})]\n",
      "Extracted relationships: [Relationship(source=Node(id='Google', type='Company', properties={}), target=Node(id='Gmail', type='Product', properties={}), type='RELEASED', properties={})]\n",
      "----------------------------------------------------------------------------------------------------\n",
      "Extracted nodes: [Node(id='Apple', type='Company', properties={'industry': 'technology'}), Node(id='Vision Pro', type='Product', properties={'name': 'Vision Pro'}), Node(id='Lighter Weight And More Affordable Version Of The Vision Pro', type='Product', properties={'name': 'lighter weight and more affordable version of the Vision Pro', 'releasedate': '2027'})]\n",
      "Extracted relationships: [Relationship(source=Node(id='Apple', type='Company', properties={}), target=Node(id='Vision Pro', type='Product', properties={}), type='RELEASED', properties={}), Relationship(source=Node(id='Apple', type='Company', properties={}), target=Node(id='Lighter Weight And More Affordable Version Of The Vision Pro', type='Product', properties={}), type='RELEASED', properties={})]\n",
      "----------------------------------------------------------------------------------------------------\n",
      "Extracted nodes: [Node(id='Apple', type='Company', properties={'name': 'Apple'}), Node(id='Iphone Fold', type='Product', properties={'name': 'iPhone Fold'})]\n",
      "Extracted relationships: [Relationship(source=Node(id='Apple', type='Company', properties={}), target=Node(id='Iphone Fold', type='Product', properties={}), type='RELEASED', properties={})]\n",
      "----------------------------------------------------------------------------------------------------\n",
      "Extracted nodes: [Node(id='Crystal Dynamics', type='Company', properties={}), Node(id='Take-Two', type='Company', properties={})]\n",
      "Extracted relationships: []\n",
      "----------------------------------------------------------------------------------------------------\n",
      "Extracted nodes: [Node(id='Apple', type='Company', properties={'industry': 'technology'}), Node(id='Ios 26', type='Product', properties={'category': 'operating system', 'version': '26'}), Node(id='Ipados 26', type='Product', properties={'category': 'operating system', 'version': '26'})]\n",
      "Extracted relationships: [Relationship(source=Node(id='Apple', type='Company', properties={}), target=Node(id='Ios 26', type='Product', properties={}), type='RELEASED', properties={}), Relationship(source=Node(id='Apple', type='Company', properties={}), target=Node(id='Ipados 26', type='Product', properties={}), type='RELEASED', properties={})]\n",
      "----------------------------------------------------------------------------------------------------\n",
      "Extracted nodes: [Node(id='Knives Out', type='Product', properties={'category': 'film'})]\n",
      "Extracted relationships: []\n",
      "----------------------------------------------------------------------------------------------------\n",
      "Extracted nodes: [Node(id='Joyful Version Of The Bot-Themed Dualsense', type='Product', properties={'name': 'Joyful version of the Bot-themed Dualsense'})]\n",
      "Extracted relationships: []\n",
      "----------------------------------------------------------------------------------------------------\n",
      "Extracted nodes: [Node(id='Playstation', type='Product', properties={'category': 'gaming console'}), Node(id='Xbox', type='Product', properties={'category': 'gaming console'})]\n",
      "Extracted relationships: []\n",
      "----------------------------------------------------------------------------------------------------\n",
      "Extracted nodes: [Node(id='Wordpress', type='Company', properties={'industry': 'technology'}), Node(id='Telex', type='Product', properties={'name': 'Telex', 'category': 'AI tool'})]\n",
      "Extracted relationships: [Relationship(source=Node(id='Wordpress', type='Company', properties={}), target=Node(id='Telex', type='Product', properties={}), type='RELEASED', properties={})]\n",
      "----------------------------------------------------------------------------------------------------\n",
      "Extracted nodes: [Node(id='Google', type='Company', properties={}), Node(id='Nest Cam', type='Product', properties={}), Node(id='Gemini', type='Technology', properties={}), Node(id='Home App', type='Product', properties={})]\n",
      "Extracted relationships: [Relationship(source=Node(id='Google', type='Company', properties={}), target=Node(id='Nest Cam', type='Product', properties={}), type='RELEASED', properties={}), Relationship(source=Node(id='Google', type='Company', properties={}), target=Node(id='Gemini', type='Technology', properties={}), type='DEVELOPED', properties={}), Relationship(source=Node(id='Home App', type='Product', properties={}), target=Node(id='Gemini', type='Technology', properties={}), type='USES', properties={})]\n",
      "----------------------------------------------------------------------------------------------------\n",
      "Extracted nodes: [Node(id='Fallout 76', type='Product', properties={'name': 'Fallout 76'})]\n",
      "Extracted relationships: []\n",
      "----------------------------------------------------------------------------------------------------\n",
      "Extracted nodes: [Node(id='Patch 33.4', type='Product', properties={'name': 'Patch 33.4'}), Node(id='The Day Of Rebirth Mini-Set', type='Product', properties={'name': 'The Day of Rebirth Mini-Set'})]\n",
      "Extracted relationships: []\n",
      "----------------------------------------------------------------------------------------------------\n",
      "Extracted nodes: [Node(id='Fallout 76: C.A.M.P. Revamp Update', type='Product', properties={'name': 'Fallout 76: C.A.M.P. Revamp update'})]\n",
      "Extracted relationships: []\n",
      "----------------------------------------------------------------------------------------------------\n",
      "Extracted nodes: [Node(id='Samsung', type='Company', properties={}), Node(id='9100 Pro 8Tb', type='Product', properties={'name': '9100 Pro 8TB', 'category': 'NVMe SSD'}), Node(id='Pcie Gen5', type='Technology', properties={'name': 'PCIe Gen5'})]\n",
      "Extracted relationships: [Relationship(source=Node(id='Samsung', type='Company', properties={}), target=Node(id='9100 Pro 8Tb', type='Product', properties={}), type='RELEASED', properties={}), Relationship(source=Node(id='9100 Pro 8Tb', type='Product', properties={}), target=Node(id='Pcie Gen5', type='Technology', properties={}), type='USES', properties={})]\n",
      "----------------------------------------------------------------------------------------------------\n",
      "Extracted nodes: [Node(id=\"Humanity'S Journey Into Space\", type='Science', properties={'category': 'space exploration'}), Node(id='Scientific Achievements', type='Science', properties={'category': 'achievement'}), Node(id='Technological Achievements', type='Technology', properties={'category': 'achievement'})]\n",
      "Extracted relationships: []\n",
      "----------------------------------------------------------------------------------------------------\n",
      "Extracted nodes: []\n",
      "Extracted relationships: []\n",
      "----------------------------------------------------------------------------------------------------\n",
      "Extracted nodes: [Node(id='Electrons In Space', type='Science', properties={'category': 'Physics'}), Node(id='Sudden Release Of Electrical Charges From Satellites', type='Science', properties={'category': 'Physics'})]\n",
      "Extracted relationships: []\n",
      "----------------------------------------------------------------------------------------------------\n",
      "Extracted nodes: [Node(id='2025 Qd8', type='Product', properties={'category': 'asteroid'}), Node(id='Earth', type='Product', properties={'category': 'planet'})]\n",
      "Extracted relationships: []\n",
      "----------------------------------------------------------------------------------------------------\n",
      "Extracted nodes: []\n",
      "Extracted relationships: []\n",
      "----------------------------------------------------------------------------------------------------\n",
      "Extracted nodes: [Node(id='Earth', type='Product', properties={'category': 'planet'}), Node(id='Giant Cosmic Void', type='Science', properties={'name': 'giant cosmic void'}), Node(id='Hubble Tension', type='Science', properties={'name': 'Hubble tension'})]\n",
      "Extracted relationships: []\n",
      "----------------------------------------------------------------------------------------------------\n",
      "Extracted nodes: [Node(id='Gene Inherited From Neanderthals', type='Technology', properties={'name': 'gene inherited from Neanderthals'}), Node(id='Muscle Activity', type='Science', properties={'name': 'muscle activity'}), Node(id='Athletic Performance', type='Science', properties={'name': 'athletic performance'})]\n",
      "Extracted relationships: [Relationship(source=Node(id='Gene Inherited From Neanderthals', type='Technology', properties={}), target=Node(id='Muscle Activity', type='Science', properties={}), type='RELATED_TO', properties={}), Relationship(source=Node(id='Gene Inherited From Neanderthals', type='Technology', properties={}), target=Node(id='Athletic Performance', type='Science', properties={}), type='RELATED_TO', properties={})]\n",
      "----------------------------------------------------------------------------------------------------\n",
      "Extracted nodes: [Node(id=\"Earth'S Rotation\", type='Science', properties={'name': \"Earth's rotation\"}), Node(id='Earth', type='Product', properties={'name': 'Earth', 'releasedate': '-4500000000-01-01'})]\n",
      "Extracted relationships: []\n",
      "----------------------------------------------------------------------------------------------------\n",
      "Extracted nodes: [Node(id='Magnets', type='Technology', properties={}), Node(id='Centrifuges', type='Technology', properties={}), Node(id='Space Oxygen Systems', type='Product', properties={})]\n",
      "Extracted relationships: [Relationship(source=Node(id='Space Oxygen Systems', type='Product', properties={}), target=Node(id='Centrifuges', type='Technology', properties={}), type='USES', properties={}), Relationship(source=Node(id='Space Oxygen Systems', type='Product', properties={}), target=Node(id='Magnets', type='Technology', properties={}), type='USES', properties={})]\n",
      "----------------------------------------------------------------------------------------------------\n",
      "Extracted nodes: [Node(id='Nasa', type='Company', properties={'industry': 'space'}), Node(id='Transiting Exoplanet Survey Satellite (Tess)', type='Product', properties={'name': 'Transiting Exoplanet Survey Satellite', 'category': 'satellite'}), Node(id='Exoplanet Discovery Technology', type='Technology', properties={'name': 'exoplanet discovery technology'}), Node(id='Astronomy', type='Science', properties={'name': 'astronomy'})]\n",
      "Extracted relationships: [Relationship(source=Node(id='Nasa', type='Company', properties={}), target=Node(id='Transiting Exoplanet Survey Satellite (Tess)', type='Product', properties={}), type='RELEASED', properties={}), Relationship(source=Node(id='Transiting Exoplanet Survey Satellite (Tess)', type='Product', properties={}), target=Node(id='Exoplanet Discovery Technology', type='Technology', properties={}), type='USES', properties={}), Relationship(source=Node(id='Exoplanet Discovery Technology', type='Technology', properties={}), target=Node(id='Astronomy', type='Science', properties={}), type='RELATED_TO', properties={})]\n",
      "----------------------------------------------------------------------------------------------------\n",
      "Extracted nodes: []\n",
      "Extracted relationships: []\n",
      "----------------------------------------------------------------------------------------------------\n",
      "Extracted nodes: [Node(id='Earth’S Biodiversity', type='Science', properties={'category': 'biodiversity'}), Node(id='Insects', type='Science', properties={'category': 'biodiversity'}), Node(id='Dark Taxa', type='Science', properties={'category': 'taxonomy'}), Node(id='Ecosystems', type='Science', properties={'category': 'ecology'})]\n",
      "Extracted relationships: []\n",
      "----------------------------------------------------------------------------------------------------\n",
      "Extracted nodes: [Node(id='Sunlight', type='Science', properties={'category': 'mental and physical benefits'})]\n",
      "Extracted relationships: []\n",
      "----------------------------------------------------------------------------------------------------\n",
      "Extracted nodes: [Node(id='Nasa', type='Company', properties={'industry': 'space exploration'}), Node(id='Americium-241', type='Technology', properties={'name': 'americium-241'})]\n",
      "Extracted relationships: [Relationship(source=Node(id='Nasa', type='Company', properties={}), target=Node(id='Americium-241', type='Technology', properties={}), type='DEVELOPED', properties={})]\n",
      "----------------------------------------------------------------------------------------------------\n",
      "Extracted nodes: [Node(id='Nanotech', type='Technology', properties={'name': 'nanotech'}), Node(id='Silicon Valley', type='Company', properties={'name': 'Silicon Valley'})]\n",
      "Extracted relationships: [Relationship(source=Node(id='Silicon Valley', type='Company', properties={}), target=Node(id='Nanotech', type='Technology', properties={}), type='DEVELOPED', properties={})]\n",
      "----------------------------------------------------------------------------------------------------\n",
      "Extracted nodes: [Node(id='Full Corn Moon', type='Science', properties={'name': 'full corn moon', 'category': 'lunar eclipse'})]\n",
      "Extracted relationships: []\n",
      "----------------------------------------------------------------------------------------------------\n",
      "Extracted nodes: [Node(id='Quantum Mechanics', type='Science', properties={'name': 'quantum mechanics'}), Node(id='Gravity', type='Science', properties={'name': 'gravity'})]\n",
      "Extracted relationships: []\n",
      "----------------------------------------------------------------------------------------------------\n",
      "Extracted nodes: [Node(id='Microplastics', type='Product', properties={'category': 'plastic'}), Node(id='Seagrass', type='Science', properties={'name': 'seagrass'}), Node(id='Neptune Balls', type='Product', properties={'name': 'Neptune balls'})]\n",
      "Extracted relationships: []\n",
      "----------------------------------------------------------------------------------------------------\n",
      "Extracted nodes: [Node(id='Slug-Shaped Dune Field In The Kazakh Steppe', type='Science', properties={'category': 'dune field'}), Node(id='Vegetation', type='Science', properties={'category': 'plant life'})]\n",
      "Extracted relationships: []\n",
      "----------------------------------------------------------------------------------------------------\n",
      "Graph preprocessed\n"
     ]
    }
   ],
   "source": [
    "from Convert_news_to_json import convert_news_to_json\n",
    "from Graph_PreProcess import Pre4Graph\n",
    "\n",
    "convert_news_to_json()\n",
    "graph = Pre4Graph().preprocess_graph()"
   ]
  },
  {
   "cell_type": "code",
   "execution_count": 44,
   "id": "f30d64bb",
   "metadata": {},
   "outputs": [],
   "source": [
    "graph.refresh_schema()"
   ]
  },
  {
   "cell_type": "markdown",
   "id": "1a16db87",
   "metadata": {},
   "source": [
    "### Create Node and Relationship Using NewsArticle Metadata"
   ]
  },
  {
   "cell_type": "markdown",
   "id": "8ca38f52",
   "metadata": {},
   "source": [
    "##### - Change Document Entity to NewsArticle"
   ]
  },
  {
   "cell_type": "code",
   "execution_count": null,
   "id": "c2f9e0f8",
   "metadata": {},
   "outputs": [
    {
     "data": {
      "text/plain": [
       "[{'NewsArticle_count': 38}]"
      ]
     },
     "execution_count": 4,
     "metadata": {},
     "output_type": "execute_result"
    }
   ],
   "source": [
    "cypher_query = \"\"\"  \n",
    "MATCH (d:Document)\n",
    "SET d:NewsArticle\n",
    "REMOVE d:Document\n",
    "RETURN COUNT(d) as NewsArticle_count\n",
    "\"\"\"\n",
    "graph.query(cypher_query)"
   ]
  },
  {
   "cell_type": "markdown",
   "id": "d865a6f1",
   "metadata": {},
   "source": [
    "##### - Set Media as Company Entity"
   ]
  },
  {
   "cell_type": "code",
   "execution_count": 9,
   "id": "6215981b",
   "metadata": {},
   "outputs": [
    {
     "name": "stdout",
     "output_type": "stream",
     "text": [
      "Number of Media Company: [{'Company_count': 38}]\n",
      "[{'Company_name': 'Kotaku', 'NewsArticle_count': 2}, {'Company_name': 'IGN', 'NewsArticle_count': 1}, {'Company_name': '9to5Mac', 'NewsArticle_count': 2}, {'Company_name': 'Ars Technica', 'NewsArticle_count': 2}, {'Company_name': 'The Verge', 'NewsArticle_count': 1}, {'Company_name': 'MacRumors', 'NewsArticle_count': 2}, {'Company_name': 'Bloomberg', 'NewsArticle_count': 1}, {'Company_name': 'Nintendo Life', 'NewsArticle_count': 1}, {'Company_name': 'Windows Central', 'NewsArticle_count': 1}, {'Company_name': 'TechCrunch', 'NewsArticle_count': 1}, {'Company_name': '9to5google.com', 'NewsArticle_count': 1}, {'Company_name': 'Bethesda.net', 'NewsArticle_count': 2}, {'Company_name': 'Blizzard.com', 'NewsArticle_count': 1}, {'Company_name': 'Servethehome.com', 'NewsArticle_count': 1}, {'Company_name': 'Rudebaguette.com', 'NewsArticle_count': 1}, {'Company_name': 'Gizmodo.com', 'NewsArticle_count': 2}, {'Company_name': 'Foxweather.com', 'NewsArticle_count': 1}, {'Company_name': 'Space.com', 'NewsArticle_count': 2}, {'Company_name': 'Skyatnightmagazine.com', 'NewsArticle_count': 1}, {'Company_name': 'Earth.com', 'NewsArticle_count': 1}, {'Company_name': 'ScienceAlert', 'NewsArticle_count': 1}, {'Company_name': 'Phys.Org', 'NewsArticle_count': 1}, {'Company_name': 'Boing Boing', 'NewsArticle_count': 1}, {'Company_name': 'Vox', 'NewsArticle_count': 1}, {'Company_name': 'Mansion Global', 'NewsArticle_count': 1}, {'Company_name': 'Energy-reporters.com', 'NewsArticle_count': 1}, {'Company_name': 'Aeon.co', 'NewsArticle_count': 1}, {'Company_name': 'Forbes', 'NewsArticle_count': 1}, {'Company_name': 'Nature.com', 'NewsArticle_count': 1}, {'Company_name': 'BBC News', 'NewsArticle_count': 1}, {'Company_name': 'Live Science', 'NewsArticle_count': 1}]\n"
     ]
    }
   ],
   "source": [
    "cypher_query = \"\"\"\n",
    "MATCH (n:NewsArticle)\n",
    "MERGE (c:Company {name: n.source})\n",
    "RETURN COUNT(c) as Company_count\n",
    "\"\"\"\n",
    "company_count = graph.query(cypher_query)\n",
    "print(f\"Number of Media Company: {company_count}\")\n",
    "\n",
    "cypher_query = \"\"\"  \n",
    "MATCH (n:NewsArticle), (c:Company)\n",
    "WHERE n.source = c.name\n",
    "MERGE (n) -[:PUBLISHED_BY]->(c)\n",
    "RETURN c.name as Company_name, COUNT(n) as NewsArticle_count\n",
    "\"\"\"\n",
    "company_news_count = graph.query(cypher_query)\n",
    "print(company_news_count)"
   ]
  },
  {
   "cell_type": "code",
   "execution_count": 13,
   "id": "e23a3157",
   "metadata": {},
   "outputs": [
    {
     "name": "stdout",
     "output_type": "stream",
     "text": [
      "Number of unique Person Node: 32\n"
     ]
    }
   ],
   "source": [
    "query = \"\"\"\n",
    "MATCH (n:NewsArticle)\n",
    "\n",
    "WITH DISTINCT n.author AS author, n.source AS source, n.id AS articleId\n",
    "\n",
    "// Create Person Node\n",
    "MERGE (p:Person {name: author})\n",
    "\n",
    "WITH p, source, articleId\n",
    "\n",
    "MERGE (c:Company {name: source})\n",
    "\n",
    "// Create Works_For Relationship between Person and Company\n",
    "MERGE (p)-[:WORKS_FOR]->(c)\n",
    "\n",
    "WITH p, articleId\n",
    "\n",
    "// Create Wrote Relationship between Person and NewsArticle\n",
    "MATCH (a:NewsArticle {id: articleId})\n",
    "\n",
    "// Create Wrote Relationship between Person and NewsArticle\n",
    "MERGE (p)-[:WROTE]->(a)\n",
    "\n",
    "// Return the number of unique Person Node\n",
    "RETURN count(DISTINCT p) AS count\n",
    "\"\"\"\n",
    "\n",
    "print(f\"Number of unique Person Node: {graph.query(query)[0]['count']}\")"
   ]
  },
  {
   "cell_type": "code",
   "execution_count": null,
   "id": "5af62b07",
   "metadata": {},
   "outputs": [
    {
     "name": "stdout",
     "output_type": "stream",
     "text": [
      "Node properties:\n",
      "- **Person**\n",
      "  - `name`: STRING Example: \"Claire Jackson\"\n",
      "- **NewsArticle**\n",
      "  - `id`: STRING Example: \"tech_0\"\n",
      "  - `date`: STRING Example: \"2025-09-02T19:53:27Z\"\n",
      "  - `title`: STRING Example: \"No Man’s Sky Fans Are Doing Wild Stuff As The Game\"\n",
      "  - `text`: STRING Example: \"With the Voyagers update, it seems clear that No M\"\n",
      "  - `source`: STRING Example: \"Kotaku\"\n",
      "  - `author`: STRING Example: \"Claire Jackson\"\n",
      "- **Company**\n",
      "  - `id`: STRING Available options: ['Microsoft', 'Team Cherry', 'Apple', 'Google', 'Crystal Dynamics', 'Take-Two', 'Wordpress', 'Samsung', 'Nasa', 'Silicon Valley']\n",
      "  - `industry`: STRING Available options: ['technology', 'space']\n",
      "  - `name`: STRING Example: \"Team Cherry\"\n",
      "  - `type`: STRING Available options: ['Media']\n",
      "- **Product**\n",
      "  - `id`: STRING Example: \"No Man’S Sky\"\n",
      "  - `category`: STRING Available options: ['space exploration sim', 'operating system', 'film', 'gaming console', 'AI tool', 'NVMe SSD', 'asteroid', 'planet', 'satellite', 'plastic']\n",
      "  - `name`: STRING Example: \"Xbox Game Pass September 2025 Wave 1\"\n",
      "  - `releasedate`: STRING Available options: ['2027']\n",
      "  - `version`: STRING Available options: ['26']\n",
      "- **Technology**\n",
      "  - `id`: STRING Available options: ['Gemini', 'Pcie Gen5', 'Technological Achievements', 'Gene Inherited From Neanderthals', 'Magnets', 'Centrifuges', 'Exoplanet Discovery Technology', 'Americium-241', 'Nanotech']\n",
      "  - `name`: STRING Available options: ['PCIe Gen5', 'gene inherited from Neanderthals', 'exoplanet discovery technology', 'americium-241', 'nanotech']\n",
      "  - `category`: STRING Available options: ['achievement']\n",
      "- **Science**\n",
      "  - `id`: STRING Example: \"Humanity'S Journey Into Space\"\n",
      "  - `category`: STRING Available options: ['space exploration', 'achievement', 'Physics', 'biodiversity', 'taxonomy', 'ecology', 'mental and physical benefits', 'lunar eclipse', 'dune field', 'plant life']\n",
      "  - `name`: STRING Available options: ['giant cosmic void', 'Hubble tension', 'muscle activity', 'athletic performance', \"Earth's rotation\", 'astronomy', 'full corn moon', 'quantum mechanics', 'gravity', 'seagrass']\n",
      "Relationship properties:\n",
      "\n",
      "The relationships:\n",
      "(:Person)-[:WORKS_FOR]->(:Company)\n",
      "(:Person)-[:WROTE]->(:NewsArticle)\n",
      "(:NewsArticle)-[:MENTIONS]->(:Product)\n",
      "(:NewsArticle)-[:MENTIONS]->(:Company)\n",
      "(:NewsArticle)-[:MENTIONS]->(:Technology)\n",
      "(:NewsArticle)-[:MENTIONS]->(:Science)\n",
      "(:NewsArticle)-[:PUBLISHED_BY]->(:Company)\n",
      "(:Company)-[:RELEASED]->(:Product)\n",
      "(:Company)-[:DEVELOPED]->(:Technology)\n",
      "(:Product)-[:USES]->(:Technology)\n",
      "(:Technology)-[:RELATED_TO]->(:Science)\n"
     ]
    }
   ],
   "source": [
    "graph.refresh_schema()\n",
    "print(graph.schema)"
   ]
  },
  {
   "cell_type": "code",
   "execution_count": null,
   "id": "d2d69c3c",
   "metadata": {},
   "outputs": [
    {
     "data": {
      "text/plain": [
       "[]"
      ]
     },
     "execution_count": 23,
     "metadata": {},
     "output_type": "execute_result"
    }
   ],
   "source": [
    "# In DB, Attribute name is id, but it is not used.\n",
    "['Company', 'Product', 'Technology']\n",
    "for entity in ['Company', 'Product', 'Technology']:\n",
    "    cypher_query = f\"\"\"\n",
    "    MATCH ({entity}:{entity})\n",
    "    WHERE {entity}.id IS NOT NULL AND {entity}.name IS NULL\n",
    "    SET {entity}.name = {entity}.id\n",
    "    REMOVE {entity}.id\n",
    "    \"\"\"\n",
    "graph.query(cypher_query)"
   ]
  },
  {
   "cell_type": "markdown",
   "id": "bd16f970",
   "metadata": {},
   "source": [
    "### Generate vector index and Neo4j Vector"
   ]
  },
  {
   "cell_type": "code",
   "execution_count": 28,
   "id": "2509e36e",
   "metadata": {},
   "outputs": [],
   "source": [
    "graph.refresh_schema()"
   ]
  },
  {
   "cell_type": "code",
   "execution_count": 39,
   "id": "93108e97",
   "metadata": {},
   "outputs": [
    {
     "name": "stdout",
     "output_type": "stream",
     "text": [
      "Vector Index Generated: 1~10 / 38, Updated: 10\n",
      "----------------------------------------------------------------------------------------------------\n",
      "Vector Index Generated: 11~20 / 38, Updated: 10\n",
      "----------------------------------------------------------------------------------------------------\n",
      "Vector Index Generated: 21~30 / 38, Updated: 10\n",
      "----------------------------------------------------------------------------------------------------\n",
      "Vector Index Generated: 31~38 / 38, Updated: 8\n",
      "----------------------------------------------------------------------------------------------------\n"
     ]
    }
   ],
   "source": [
    "import importlib\n",
    "import Generate_VectorIndex as GVI\n",
    "import KG_RAG_Chain\n",
    "importlib.reload(GVI)\n",
    "importlib.reload(KG_RAG_Chain)\n",
    "\n",
    "vector_store = GVI.VectorIndex(graph).connect_vector_index()\n",
    "kg_rag_chain = KG_RAG_Chain.kg_enhanced_rag_chain(vector_store, graph)"
   ]
  },
  {
   "cell_type": "code",
   "execution_count": 46,
   "id": "050ac58a",
   "metadata": {},
   "outputs": [
    {
     "name": "stdout",
     "output_type": "stream",
     "text": [
      "The latest news about Apple includes two major updates:\n",
      "\n",
      "1. Apple has released the ninth developer betas of iOS 26 and iPadOS 26 for testing purposes, continuing the development of its next-generation operating systems.\n",
      "2. Apple is about to launch the AirPods Pro 3, and reports indicate the company is following a similar upgrade strategy as it did with the AirPods Pro 2, aiming to build on the previous model's success.\n",
      "\n",
      "These updates highlight Apple's ongoing focus on both software and hardware innovation.\n",
      "--------------------------------\n",
      "Based on the provided news article content and knowledge graph information, there is no mention of any Samsung product or related news. Therefore, I don't know what the latest product from Samsung is or what it is based on.\n",
      "--------------------------------\n",
      "The most mentioned company in the news is Apple. Based on the information provided, Apple is a technology company known for releasing products such as the AirPods Pro 3, AirPods Pro 2, Vision Pro, a lighter and more affordable version of the Vision Pro, iPhone Fold, iOS 26, and iPadOS 26.\n",
      "--------------------------------\n"
     ]
    }
   ],
   "source": [
    "example_question = [\"What is the latest news about Apple?\", \n",
    "                    \"What is the latest product from Samsung? and what is this product based on?\", \n",
    "                    \"What is the most mentioned company in the news? and what is this company based on?\"]\n",
    "\n",
    "for question in example_question:\n",
    "    result = kg_rag_chain(question)\n",
    "    print(result)\n",
    "    print(\"--------------------------------\")\n"
   ]
  },
  {
   "cell_type": "code",
   "execution_count": null,
   "id": "8079e456",
   "metadata": {},
   "outputs": [],
   "source": []
  },
  {
   "cell_type": "code",
   "execution_count": null,
   "id": "ddaeee2c",
   "metadata": {},
   "outputs": [],
   "source": []
  },
  {
   "cell_type": "code",
   "execution_count": null,
   "id": "1bb08c5e",
   "metadata": {},
   "outputs": [],
   "source": []
  },
  {
   "cell_type": "code",
   "execution_count": null,
   "id": "76f28527",
   "metadata": {},
   "outputs": [],
   "source": []
  }
 ],
 "metadata": {
  "kernelspec": {
   "display_name": "neo-venv",
   "language": "python",
   "name": "python3"
  },
  "language_info": {
   "codemirror_mode": {
    "name": "ipython",
    "version": 3
   },
   "file_extension": ".py",
   "mimetype": "text/x-python",
   "name": "python",
   "nbconvert_exporter": "python",
   "pygments_lexer": "ipython3",
   "version": "3.12.10"
  }
 },
 "nbformat": 4,
 "nbformat_minor": 5
}
